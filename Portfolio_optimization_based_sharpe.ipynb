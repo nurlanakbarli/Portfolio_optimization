{
 "cells": [
  {
   "cell_type": "code",
   "execution_count": 14,
   "metadata": {},
   "outputs": [],
   "source": [
    "\n",
    "import yfinance as yf\n",
    "import pandas as pd\n",
    "from datetime import datetime, timedelta\n",
    "import numpy as np\n",
    "from scipy.optimize import minimize\n",
    "import matplotlib.pyplot as plt"
   ]
  },
  {
   "cell_type": "code",
   "execution_count": 15,
   "metadata": {},
   "outputs": [],
   "source": [
    "assets = ['SHEL','BP','TTE','XOM','CL=F']\n"
   ]
  },
  {
   "cell_type": "code",
   "execution_count": 16,
   "metadata": {},
   "outputs": [
    {
     "name": "stdout",
     "output_type": "stream",
     "text": [
      "2020-08-04 15:07:41.920833\n",
      "2023-08-04 15:07:41.920833\n"
     ]
    }
   ],
   "source": [
    "end_date = datetime.today()\n",
    "start_date = end_date - timedelta(days = 3*365)\n",
    "print(start_date)\n",
    "print(end_date)"
   ]
  },
  {
   "cell_type": "code",
   "execution_count": 17,
   "metadata": {},
   "outputs": [
    {
     "name": "stdout",
     "output_type": "stream",
     "text": [
      "[*********************100%***********************]  1 of 1 completed\n",
      "[*********************100%***********************]  1 of 1 completed\n",
      "[*********************100%***********************]  1 of 1 completed\n",
      "[*********************100%***********************]  1 of 1 completed\n",
      "[*********************100%***********************]  1 of 1 completed\n"
     ]
    }
   ],
   "source": [
    "adj_close_df = pd.DataFrame()\n",
    "for asset in assets:\n",
    "    data = yf.download(asset, start = start_date, end = end_date)\n",
    "    adj_close_df[asset] = data['Adj Close']\n",
    "\n"
   ]
  },
  {
   "cell_type": "code",
   "execution_count": 18,
   "metadata": {},
   "outputs": [
    {
     "name": "stdout",
     "output_type": "stream",
     "text": [
      "                 SHEL         BP        TTE         XOM       CL=F\n",
      "Date                                                              \n",
      "2020-08-04  28.218256  20.502722  32.108070   37.107231  41.700001\n",
      "2020-08-05  28.371279  20.684084  32.450771   37.431602  42.189999\n",
      "2020-08-06  28.128246  20.088177  32.075436   37.252342  41.950001\n",
      "2020-08-07  27.759203  19.846357  31.773529   37.081615  41.220001\n",
      "2020-08-10  28.308268  20.295448  31.993830   37.994999  41.939999\n",
      "...               ...        ...        ...         ...        ...\n",
      "2023-07-28  60.939999  36.709999  59.910000  104.160004  80.580002\n",
      "2023-07-31  61.630001  37.299999  60.849998  107.239998  81.800003\n",
      "2023-08-01  61.020000  36.959999  60.349998  106.620003  81.370003\n",
      "2023-08-02  59.919998  36.029999  58.299999  105.290001  79.489998\n",
      "2023-08-03  60.590000  36.459999  59.279999  107.120003  81.550003\n",
      "\n",
      "[755 rows x 5 columns]\n"
     ]
    }
   ],
   "source": [
    "print(adj_close_df)\n"
   ]
  },
  {
   "cell_type": "code",
   "execution_count": 19,
   "metadata": {},
   "outputs": [
    {
     "name": "stdout",
     "output_type": "stream",
     "text": [
      "                SHEL        BP       TTE       XOM      CL=F\n",
      "Date                                                        \n",
      "2020-08-04       NaN       NaN       NaN       NaN       NaN\n",
      "2020-08-05  0.005408  0.008807  0.010617  0.008703  0.011682\n",
      "2020-08-06 -0.008603 -0.029233 -0.011634 -0.004801 -0.005705\n",
      "2020-08-07 -0.013207 -0.012111 -0.009457 -0.004594 -0.017555\n",
      "2020-08-10  0.019586  0.022376  0.006910  0.024333  0.017316\n",
      "...              ...       ...       ...       ...       ...\n",
      "2023-07-28  0.002300  0.001363  0.012429 -0.012024  0.006100\n",
      "2023-07-31  0.011259  0.015944  0.015568  0.029141  0.015027\n",
      "2023-08-01 -0.009947 -0.009157 -0.008251 -0.005798 -0.005271\n",
      "2023-08-02 -0.018191 -0.025484 -0.034559 -0.012553 -0.023375\n",
      "2023-08-03  0.011120  0.011864  0.016670  0.017231  0.025585\n",
      "\n",
      "[755 rows x 5 columns]\n"
     ]
    }
   ],
   "source": [
    "log_returns = np.log(adj_close_df / adj_close_df.shift(1))\n",
    "print(log_returns)"
   ]
  },
  {
   "cell_type": "code",
   "execution_count": 20,
   "metadata": {},
   "outputs": [
    {
     "name": "stdout",
     "output_type": "stream",
     "text": [
      "                SHEL        BP       TTE       XOM      CL=F\n",
      "Date                                                        \n",
      "2020-08-05  0.005408  0.008807  0.010617  0.008703  0.011682\n",
      "2020-08-06 -0.008603 -0.029233 -0.011634 -0.004801 -0.005705\n",
      "2020-08-07 -0.013207 -0.012111 -0.009457 -0.004594 -0.017555\n",
      "2020-08-10  0.019586  0.022376  0.006910  0.024333  0.017316\n",
      "2020-08-11  0.012638  0.013105  0.012923  0.010282 -0.007899\n",
      "...              ...       ...       ...       ...       ...\n",
      "2023-07-28  0.002300  0.001363  0.012429 -0.012024  0.006100\n",
      "2023-07-31  0.011259  0.015944  0.015568  0.029141  0.015027\n",
      "2023-08-01 -0.009947 -0.009157 -0.008251 -0.005798 -0.005271\n",
      "2023-08-02 -0.018191 -0.025484 -0.034559 -0.012553 -0.023375\n",
      "2023-08-03  0.011120  0.011864  0.016670  0.017231  0.025585\n",
      "\n",
      "[754 rows x 5 columns]\n"
     ]
    }
   ],
   "source": [
    "log_returns = log_returns.dropna()\n",
    "print(log_returns)"
   ]
  },
  {
   "cell_type": "code",
   "execution_count": 21,
   "metadata": {},
   "outputs": [
    {
     "name": "stdout",
     "output_type": "stream",
     "text": [
      "          SHEL        BP       TTE       XOM      CL=F\n",
      "SHEL  0.105845  0.100712  0.083771  0.082304  0.071391\n",
      "BP    0.100712  0.119744  0.089706  0.088901  0.075969\n",
      "TTE   0.083771  0.089706  0.095243  0.071482  0.061782\n",
      "XOM   0.082304  0.088901  0.071482  0.107377  0.079984\n",
      "CL=F  0.071391  0.075969  0.061782  0.079984  0.163806\n"
     ]
    }
   ],
   "source": [
    "cov_matrix = log_returns.cov()*252\n",
    "print(cov_matrix)\n"
   ]
  },
  {
   "cell_type": "code",
   "execution_count": 22,
   "metadata": {},
   "outputs": [],
   "source": [
    "# Définition des fonctions\n",
    "def standard_deviation(weights, cov_matrix):\n",
    "    variance = weights.T @ cov_matrix @ weights\n",
    "    return np.sqrt(variance)\n",
    "\n",
    "def expected_return(weights, log_returns):\n",
    "    return np.sum(log_returns.mean() * weights) * 252\n",
    "\n",
    "def sharpe_ratio(weights, log_returns, cov_matrix, risk_free_rate):\n",
    "    return (expected_return(weights, log_returns) - risk_free_rate) / standard_deviation(weights, cov_matrix)\n",
    "\n",
    "def neg_sharpe_ratio(weights, log_returns, cov_matrix, risk_free_rate):\n",
    "    return -sharpe_ratio(weights, log_returns, cov_matrix, risk_free_rate)"
   ]
  },
  {
   "cell_type": "code",
   "execution_count": 23,
   "metadata": {},
   "outputs": [],
   "source": [
    "risk_free_rate = 0.03844\n",
    "constraints = {'type': 'eq', 'fun' : lambda weights: np.sum(weights) - 1}\n",
    "bounds = [(0, 0.5) for _ in range(len(assets))]"
   ]
  },
  {
   "cell_type": "code",
   "execution_count": 24,
   "metadata": {},
   "outputs": [
    {
     "name": "stdout",
     "output_type": "stream",
     "text": [
      "[0.2 0.2 0.2 0.2 0.2]\n"
     ]
    }
   ],
   "source": [
    "\n",
    "initial_weights = np.array([1/len(assets)]*len(assets))\n",
    "print(initial_weights)"
   ]
  },
  {
   "cell_type": "code",
   "execution_count": 25,
   "metadata": {},
   "outputs": [],
   "source": [
    "def sharpe_ratio(weights, log_returns, cov_matrix, risk_free_rate):\n",
    "    return (expected_return(weights, log_returns) - risk_free_rate) / standard_deviation(weights, cov_matrix)"
   ]
  },
  {
   "cell_type": "code",
   "execution_count": 26,
   "metadata": {},
   "outputs": [],
   "source": [
    "optimized_results = minimize(neg_sharpe_ratio, initial_weights, args=(log_returns, cov_matrix, risk_free_rate), method='SLSQP', constraints=constraints, bounds=bounds)\n",
    "optimal_weights = optimized_results.x"
   ]
  },
  {
   "cell_type": "code",
   "execution_count": 27,
   "metadata": {},
   "outputs": [
    {
     "name": "stdout",
     "output_type": "stream",
     "text": [
      "Optimal Weights:\n",
      "SHEL: 0.4413\n",
      "BP: 0.0000\n",
      "TTE: 0.0000\n",
      "XOM: 0.5000\n",
      "CL=F: 0.0587\n",
      "\n",
      "Expected Annual Return: 0.3030\n",
      "Expected Volatility: 0.3045\n",
      "Sharpe Ratio: 0.8688\n"
     ]
    }
   ],
   "source": [
    "print(\"Optimal Weights:\")\n",
    "for ticker, weight in zip(assets, optimal_weights):\n",
    " print(f\"{ticker}: {weight:.4f}\")\n",
    " \n",
    "print()\n",
    "optimal_portfolio_return = expected_return(optimal_weights, log_returns)\n",
    "optimal_portfolio_volatility = standard_deviation(optimal_weights, cov_matrix)\n",
    "optimal_sharpe_ratio = sharpe_ratio(optimal_weights, log_returns, cov_matrix, risk_free_rate)\n",
    "print(f\"Expected Annual Return: {optimal_portfolio_return:.4f}\")\n",
    "print(f\"Expected Volatility: {optimal_portfolio_volatility:.4f}\")\n",
    "print(f\"Sharpe Ratio: {optimal_sharpe_ratio:.4f}\")"
   ]
  },
  {
   "cell_type": "code",
   "execution_count": 28,
   "metadata": {},
   "outputs": [
    {
     "data": {
      "image/png": "[encoded data removed]",
      "text/plain": [
       "<Figure size 1200x800 with 1 Axes>"
      ]
     },
     "metadata": {},
     "output_type": "display_data"
    }
   ],
   "source": [
    "\n",
    "plt.figure(figsize=(12,8))\n",
    "plt.bar(assets, optimal_weights)\n",
    "plt.xlabel('Assets')\n",
    "plt.ylabel('Optimal Weights')\n",
    "plt.title('Optimal Portfolio Weights')\n",
    "plt.show()\n"
   ]
  },
  {
   "cell_type": "code",
   "execution_count": null,
   "metadata": {},
   "outputs": [],
   "source": []
  },
  {
   "cell_type": "code",
   "execution_count": null,
   "metadata": {},
   "outputs": [],
   "source": []
  },
  {
   "cell_type": "code",
   "execution_count": null,
   "metadata": {},
   "outputs": [],
   "source": []
  }
 ],
 "metadata": {
  "kernelspec": {
   "display_name": "Python 3",
   "language": "python",
   "name": "python3"
  },
  "language_info": {
   "codemirror_mode": {
    "name": "ipython",
    "version": 3
   },
   "file_extension": ".py",
   "mimetype": "text/x-python",
   "name": "python",
   "nbconvert_exporter": "python",
   "pygments_lexer": "ipython3",
   "version": "3.10.11"
  },
  "orig_nbformat": 4
 },
 "nbformat": 4,
 "nbformat_minor": 2
}
